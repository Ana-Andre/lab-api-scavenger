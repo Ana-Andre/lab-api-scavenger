{
 "cells": [
  {
   "cell_type": "code",
   "execution_count": 1,
   "metadata": {},
   "outputs": [
    {
     "data": {
      "text/plain": [
       "'\\n### Challenge 2: Count Commits\\n\\nCount how many commits were made in the past week.\\n\\n1. Obtain all the commits made in the past week via API, which is a JSON array that contains multiple commit objects.\\n\\n1. Count how many commit objects are contained in the array.\\n'"
      ]
     },
     "execution_count": 1,
     "metadata": {},
     "output_type": "execute_result"
    }
   ],
   "source": [
    "'''\n",
    "### Challenge 2: Count Commits\n",
    "\n",
    "Count how many commits were made in the past week.\n",
    "\n",
    "1. Obtain all the commits made in the past week via API, which is a JSON array that contains multiple commit objects.\n",
    "\n",
    "1. Count how many commit objects are contained in the array.\n",
    "'''\n"
   ]
  },
  {
   "cell_type": "code",
   "execution_count": 2,
   "metadata": {},
   "outputs": [],
   "source": [
    "#import libraries\n",
    "import requests\n",
    "import json\n",
    "import pandas as pd\n",
    "import np"
   ]
  },
  {
   "cell_type": "code",
   "execution_count": 9,
   "metadata": {},
   "outputs": [
    {
     "data": {
      "text/plain": [
       "<Response [200]>"
      ]
     },
     "execution_count": 9,
     "metadata": {},
     "output_type": "execute_result"
    }
   ],
   "source": [
    "#import API info\n",
    "\n",
    "url_commit = 'https://api.github.com/repos/ironhack-datalabs/datalis0819/commits'#?since=2019-08-19T00:00:00Z'\n",
    "\n",
    "response_commit = requests.get(url_commit)#.json()\n",
    "\n",
    "#GET /repos/:owner/:repo/commits\n",
    "\n",
    "response_commit"
   ]
  },
  {
   "cell_type": "code",
   "execution_count": 10,
   "metadata": {},
   "outputs": [
    {
     "data": {
      "text/plain": [
       "{'Date': 'Sun, 01 Sep 2019 20:25:24 GMT', 'Content-Type': 'application/json; charset=utf-8', 'Transfer-Encoding': 'chunked', 'Server': 'GitHub.com', 'Status': '200 OK', 'X-RateLimit-Limit': '60', 'X-RateLimit-Remaining': '58', 'X-RateLimit-Reset': '1567373116', 'Cache-Control': 'public, max-age=60, s-maxage=60', 'Vary': 'Accept, Accept-Encoding', 'ETag': 'W/\"d4f996d136d2a2da7a3580f5ab6279bb\"', 'Last-Modified': 'Wed, 14 Aug 2019 10:31:56 GMT', 'X-GitHub-Media-Type': 'github.v3; format=json', 'Link': '<https://api.github.com/repositories/198647222/commits?page=2>; rel=\"next\", <https://api.github.com/repositories/198647222/commits?page=2>; rel=\"last\"', 'Access-Control-Expose-Headers': 'ETag, Link, Location, Retry-After, X-GitHub-OTP, X-RateLimit-Limit, X-RateLimit-Remaining, X-RateLimit-Reset, X-OAuth-Scopes, X-Accepted-OAuth-Scopes, X-Poll-Interval, X-GitHub-Media-Type', 'Access-Control-Allow-Origin': '*', 'Strict-Transport-Security': 'max-age=31536000; includeSubdomains; preload', 'X-Frame-Options': 'deny', 'X-Content-Type-Options': 'nosniff', 'X-XSS-Protection': '1; mode=block', 'Referrer-Policy': 'origin-when-cross-origin, strict-origin-when-cross-origin', 'Content-Security-Policy': \"default-src 'none'\", 'Content-Encoding': 'gzip', 'X-GitHub-Request-Id': '5611:3BE2C:5D9FE91:71B562B:5D6C2934'}"
      ]
     },
     "execution_count": 10,
     "metadata": {},
     "output_type": "execute_result"
    }
   ],
   "source": [
    "response_commit.headers"
   ]
  },
  {
   "cell_type": "code",
   "execution_count": 11,
   "metadata": {},
   "outputs": [
    {
     "data": {
      "text/plain": [
       "requests.models.Response"
      ]
     },
     "execution_count": 11,
     "metadata": {},
     "output_type": "execute_result"
    }
   ],
   "source": [
    "type(response_commit)"
   ]
  },
  {
   "cell_type": "code",
   "execution_count": 12,
   "metadata": {},
   "outputs": [
    {
     "data": {
      "text/html": [
       "<div>\n",
       "<style scoped>\n",
       "    .dataframe tbody tr th:only-of-type {\n",
       "        vertical-align: middle;\n",
       "    }\n",
       "\n",
       "    .dataframe tbody tr th {\n",
       "        vertical-align: top;\n",
       "    }\n",
       "\n",
       "    .dataframe thead th {\n",
       "        text-align: right;\n",
       "    }\n",
       "</style>\n",
       "<table border=\"1\" class=\"dataframe\">\n",
       "  <thead>\n",
       "    <tr style=\"text-align: right;\">\n",
       "      <th></th>\n",
       "      <th>author</th>\n",
       "      <th>comments_url</th>\n",
       "      <th>commit</th>\n",
       "      <th>committer</th>\n",
       "      <th>html_url</th>\n",
       "      <th>node_id</th>\n",
       "      <th>parents</th>\n",
       "      <th>sha</th>\n",
       "      <th>url</th>\n",
       "    </tr>\n",
       "  </thead>\n",
       "  <tbody>\n",
       "    <tr>\n",
       "      <th>0</th>\n",
       "      <td>{'login': 'carlosmd14', 'id': 45972288, 'node_...</td>\n",
       "      <td>https://api.github.com/repos/ironhack-datalabs...</td>\n",
       "      <td>{'author': {'name': 'Carlos Madriz', 'email': ...</td>\n",
       "      <td>{'login': 'web-flow', 'id': 19864447, 'node_id...</td>\n",
       "      <td>https://github.com/ironhack-datalabs/datalis08...</td>\n",
       "      <td>MDY6Q29tbWl0MTk4NjQ3MjIyOmFiZWJkYWU5ZTlmMjJhND...</td>\n",
       "      <td>[{'sha': '9f8892572f69b657afc2c1d8fc86feaa26a8...</td>\n",
       "      <td>abebdae9e9f22a43419ae23520e93fafbce5a238</td>\n",
       "      <td>https://api.github.com/repos/ironhack-datalabs...</td>\n",
       "    </tr>\n",
       "    <tr>\n",
       "      <th>1</th>\n",
       "      <td>{'login': 'carlosmd14', 'id': 45972288, 'node_...</td>\n",
       "      <td>https://api.github.com/repos/ironhack-datalabs...</td>\n",
       "      <td>{'author': {'name': 'Carlos Madriz', 'email': ...</td>\n",
       "      <td>{'login': 'web-flow', 'id': 19864447, 'node_id...</td>\n",
       "      <td>https://github.com/ironhack-datalabs/datalis08...</td>\n",
       "      <td>MDY6Q29tbWl0MTk4NjQ3MjIyOjlmODg5MjU3MmY2OWI2NT...</td>\n",
       "      <td>[{'sha': 'dad154e138221514f3a307a02992afe6a4da...</td>\n",
       "      <td>9f8892572f69b657afc2c1d8fc86feaa26a854fc</td>\n",
       "      <td>https://api.github.com/repos/ironhack-datalabs...</td>\n",
       "    </tr>\n",
       "    <tr>\n",
       "      <th>2</th>\n",
       "      <td>{'login': 'carlosmd14', 'id': 45972288, 'node_...</td>\n",
       "      <td>https://api.github.com/repos/ironhack-datalabs...</td>\n",
       "      <td>{'author': {'name': 'Carlos Madriz', 'email': ...</td>\n",
       "      <td>{'login': 'web-flow', 'id': 19864447, 'node_id...</td>\n",
       "      <td>https://github.com/ironhack-datalabs/datalis08...</td>\n",
       "      <td>MDY6Q29tbWl0MTk4NjQ3MjIyOmRhZDE1NGUxMzgyMjE1MT...</td>\n",
       "      <td>[{'sha': 'd4111da8c59075a6250742b26f8ffcf11062...</td>\n",
       "      <td>dad154e138221514f3a307a02992afe6a4da7d22</td>\n",
       "      <td>https://api.github.com/repos/ironhack-datalabs...</td>\n",
       "    </tr>\n",
       "    <tr>\n",
       "      <th>3</th>\n",
       "      <td>{'login': 'carlosmd14', 'id': 45972288, 'node_...</td>\n",
       "      <td>https://api.github.com/repos/ironhack-datalabs...</td>\n",
       "      <td>{'author': {'name': 'Carlos Madriz', 'email': ...</td>\n",
       "      <td>{'login': 'web-flow', 'id': 19864447, 'node_id...</td>\n",
       "      <td>https://github.com/ironhack-datalabs/datalis08...</td>\n",
       "      <td>MDY6Q29tbWl0MTk4NjQ3MjIyOmQ0MTExZGE4YzU5MDc1YT...</td>\n",
       "      <td>[{'sha': 'ec14215572a45a8c241c8b9fb3622c668108...</td>\n",
       "      <td>d4111da8c59075a6250742b26f8ffcf11062a594</td>\n",
       "      <td>https://api.github.com/repos/ironhack-datalabs...</td>\n",
       "    </tr>\n",
       "    <tr>\n",
       "      <th>4</th>\n",
       "      <td>{'login': 'carlosmd14', 'id': 45972288, 'node_...</td>\n",
       "      <td>https://api.github.com/repos/ironhack-datalabs...</td>\n",
       "      <td>{'author': {'name': 'Carlos Madriz', 'email': ...</td>\n",
       "      <td>{'login': 'web-flow', 'id': 19864447, 'node_id...</td>\n",
       "      <td>https://github.com/ironhack-datalabs/datalis08...</td>\n",
       "      <td>MDY6Q29tbWl0MTk4NjQ3MjIyOmVjMTQyMTU1NzJhNDVhOG...</td>\n",
       "      <td>[{'sha': 'f343d176f35b4b545c858c1a9d5db8bab788...</td>\n",
       "      <td>ec14215572a45a8c241c8b9fb3622c66810872f6</td>\n",
       "      <td>https://api.github.com/repos/ironhack-datalabs...</td>\n",
       "    </tr>\n",
       "  </tbody>\n",
       "</table>\n",
       "</div>"
      ],
      "text/plain": [
       "                                              author  \\\n",
       "0  {'login': 'carlosmd14', 'id': 45972288, 'node_...   \n",
       "1  {'login': 'carlosmd14', 'id': 45972288, 'node_...   \n",
       "2  {'login': 'carlosmd14', 'id': 45972288, 'node_...   \n",
       "3  {'login': 'carlosmd14', 'id': 45972288, 'node_...   \n",
       "4  {'login': 'carlosmd14', 'id': 45972288, 'node_...   \n",
       "\n",
       "                                        comments_url  \\\n",
       "0  https://api.github.com/repos/ironhack-datalabs...   \n",
       "1  https://api.github.com/repos/ironhack-datalabs...   \n",
       "2  https://api.github.com/repos/ironhack-datalabs...   \n",
       "3  https://api.github.com/repos/ironhack-datalabs...   \n",
       "4  https://api.github.com/repos/ironhack-datalabs...   \n",
       "\n",
       "                                              commit  \\\n",
       "0  {'author': {'name': 'Carlos Madriz', 'email': ...   \n",
       "1  {'author': {'name': 'Carlos Madriz', 'email': ...   \n",
       "2  {'author': {'name': 'Carlos Madriz', 'email': ...   \n",
       "3  {'author': {'name': 'Carlos Madriz', 'email': ...   \n",
       "4  {'author': {'name': 'Carlos Madriz', 'email': ...   \n",
       "\n",
       "                                           committer  \\\n",
       "0  {'login': 'web-flow', 'id': 19864447, 'node_id...   \n",
       "1  {'login': 'web-flow', 'id': 19864447, 'node_id...   \n",
       "2  {'login': 'web-flow', 'id': 19864447, 'node_id...   \n",
       "3  {'login': 'web-flow', 'id': 19864447, 'node_id...   \n",
       "4  {'login': 'web-flow', 'id': 19864447, 'node_id...   \n",
       "\n",
       "                                            html_url  \\\n",
       "0  https://github.com/ironhack-datalabs/datalis08...   \n",
       "1  https://github.com/ironhack-datalabs/datalis08...   \n",
       "2  https://github.com/ironhack-datalabs/datalis08...   \n",
       "3  https://github.com/ironhack-datalabs/datalis08...   \n",
       "4  https://github.com/ironhack-datalabs/datalis08...   \n",
       "\n",
       "                                             node_id  \\\n",
       "0  MDY6Q29tbWl0MTk4NjQ3MjIyOmFiZWJkYWU5ZTlmMjJhND...   \n",
       "1  MDY6Q29tbWl0MTk4NjQ3MjIyOjlmODg5MjU3MmY2OWI2NT...   \n",
       "2  MDY6Q29tbWl0MTk4NjQ3MjIyOmRhZDE1NGUxMzgyMjE1MT...   \n",
       "3  MDY6Q29tbWl0MTk4NjQ3MjIyOmQ0MTExZGE4YzU5MDc1YT...   \n",
       "4  MDY6Q29tbWl0MTk4NjQ3MjIyOmVjMTQyMTU1NzJhNDVhOG...   \n",
       "\n",
       "                                             parents  \\\n",
       "0  [{'sha': '9f8892572f69b657afc2c1d8fc86feaa26a8...   \n",
       "1  [{'sha': 'dad154e138221514f3a307a02992afe6a4da...   \n",
       "2  [{'sha': 'd4111da8c59075a6250742b26f8ffcf11062...   \n",
       "3  [{'sha': 'ec14215572a45a8c241c8b9fb3622c668108...   \n",
       "4  [{'sha': 'f343d176f35b4b545c858c1a9d5db8bab788...   \n",
       "\n",
       "                                        sha  \\\n",
       "0  abebdae9e9f22a43419ae23520e93fafbce5a238   \n",
       "1  9f8892572f69b657afc2c1d8fc86feaa26a854fc   \n",
       "2  dad154e138221514f3a307a02992afe6a4da7d22   \n",
       "3  d4111da8c59075a6250742b26f8ffcf11062a594   \n",
       "4  ec14215572a45a8c241c8b9fb3622c66810872f6   \n",
       "\n",
       "                                                 url  \n",
       "0  https://api.github.com/repos/ironhack-datalabs...  \n",
       "1  https://api.github.com/repos/ironhack-datalabs...  \n",
       "2  https://api.github.com/repos/ironhack-datalabs...  \n",
       "3  https://api.github.com/repos/ironhack-datalabs...  \n",
       "4  https://api.github.com/repos/ironhack-datalabs...  "
      ]
     },
     "execution_count": 12,
     "metadata": {},
     "output_type": "execute_result"
    }
   ],
   "source": [
    "#convert to pandas dataframe\n",
    "df_commit = pd.DataFrame(response_commit.json())\n",
    "df_commit.head()"
   ]
  },
  {
   "cell_type": "code",
   "execution_count": 18,
   "metadata": {},
   "outputs": [],
   "source": [
    "#commit_lst = df_commit['commit'].tolist()\n",
    "#commit_lst"
   ]
  },
  {
   "cell_type": "markdown",
   "metadata": {},
   "source": [
    "## df_commit[\"commit\"].count()"
   ]
  },
  {
   "cell_type": "code",
   "execution_count": null,
   "metadata": {},
   "outputs": [],
   "source": []
  }
 ],
 "metadata": {
  "kernelspec": {
   "display_name": "Python 3",
   "language": "python",
   "name": "python3"
  },
  "language_info": {
   "codemirror_mode": {
    "name": "ipython",
    "version": 3
   },
   "file_extension": ".py",
   "mimetype": "text/x-python",
   "name": "python",
   "nbconvert_exporter": "python",
   "pygments_lexer": "ipython3",
   "version": "3.7.3"
  }
 },
 "nbformat": 4,
 "nbformat_minor": 2
}
